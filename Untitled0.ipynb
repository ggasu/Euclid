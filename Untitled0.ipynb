{
  "nbformat": 4,
  "nbformat_minor": 0,
  "metadata": {
    "colab": {
      "provenance": []
    },
    "kernelspec": {
      "name": "python3",
      "display_name": "Python 3"
    },
    "language_info": {
      "name": "python"
    }
  },
  "cells": [
    {
      "cell_type": "code",
      "source": [
        "import math  # Matematiksel işlemler için\n",
        "\n",
        "# 2D uzayda noktaları temsil eden bir liste\n",
        "points = [\n",
        "    (1, 2),\n",
        "    (3, 4),\n",
        "    (5, 6),\n",
        "    (7, 8),\n",
        "    (9, 10),\n",
        "]\n",
        "\n",
        "# Öklid mesafesini hesaplayan bir fonksiyon\n",
        "def euclideanDistance(point1, point2):\n",
        "    x1, y1 = point1\n",
        "    x2, y2 = point2\n",
        "    return math.sqrt((x2 - x1) ** 2 + (y2 - y1) ** 2)\n",
        "\n",
        "# Mesafeleri tutacak bir liste\n",
        "distances = []\n",
        "\n",
        "# Tüm nokta çiftleri arasındaki mesafeyi hesapla ve listeye ekle\n",
        "num_points = len(points)\n",
        "for i in range(num_points):\n",
        "    for j in range(i + 1, num_points):\n",
        "        distance = euclideanDistance(points[i], points[j])\n",
        "        distances.append(distance)\n",
        "\n",
        "# Minimum mesafeyi bul\n",
        "min_distance = min(distances)\n",
        "\n",
        "# Sonuçları yazdır\n",
        "print(\"Tüm noktalar arasındaki mesafeler:\", distances)\n",
        "print(\"Minimum mesafe:\", min_distance)\n"
      ],
      "metadata": {
        "colab": {
          "base_uri": "https://localhost:8080/"
        },
        "id": "0EPMpg7M2h_7",
        "outputId": "152bf390-1496-479c-8cc3-54946d45ab23"
      },
      "execution_count": null,
      "outputs": [
        {
          "output_type": "stream",
          "name": "stdout",
          "text": [
            "Tüm noktalar arasındaki mesafeler: [2.8284271247461903, 5.656854249492381, 8.48528137423857, 11.313708498984761, 2.8284271247461903, 5.656854249492381, 8.48528137423857, 2.8284271247461903, 5.656854249492381, 2.8284271247461903]\n",
            "Minimum mesafe: 2.8284271247461903\n"
          ]
        }
      ]
    }
  ]
}